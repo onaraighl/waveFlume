{
 "cells": [
  {
   "cell_type": "code",
   "execution_count": 11,
   "id": "e43b77d9-acfc-42ae-a6f6-df755e94406d",
   "metadata": {},
   "outputs": [],
   "source": [
    "import numpy as np\n",
    "import matplotlib.pyplot as plt\n",
    "from scipy.optimize import fsolve\n",
    "from scipy.integrate import quad"
   ]
  },
  {
   "cell_type": "code",
   "execution_count": 12,
   "id": "2386c0a6-b92a-4289-b112-2baf63f6b1cb",
   "metadata": {},
   "outputs": [],
   "source": [
    "def fourier_transform(i, print_opt=False):\n",
    "    h = 0.05\n",
    "    rho = 1000\n",
    "    g =9.8\n",
    "    gam = 0.072\n",
    "    w = 140*(2*np.pi / 60)\n",
    "    f0=1\n",
    "    \n",
    "    def g1(k):\n",
    "        return k*np.tan(k*h)\n",
    "    def g2(k):\n",
    "        return -(w**2)/(g - (gam/rho)*k**2)\n",
    "    \n",
    "    def f1(k):\n",
    "        return g1(k) - g2(k)\n",
    "    m=i+1\n",
    "    k_n = np.zeros(m-1)\n",
    "    for n in range(1,m):\n",
    "        k_n[n-1] = fsolve(f1, [n*np.pi/h -0.5,n*np.pi/h +0.5])[0]\n",
    "    if print_opt ==True:\n",
    "        print(k_n)\n",
    "        print(f1(k_n))\n",
    "    \n",
    "    def chi(z,k,h):\n",
    "        return np.cos(k*(z+h))/np.cos(k*h)\n",
    "    \n",
    "    def Int1(z,k,h):\n",
    "        return chi(z,k,h)**2\n",
    "    \n",
    "    C_n = np.zeros(m-1)\n",
    "    a_n_int = np.zeros(m-1)\n",
    "    a_n  = np.zeros(m-1)\n",
    "    for n in range(1,m):\n",
    "        k= k_n[n-1]\n",
    "        C_n[n-1], error = quad(Int1, -h,0, args = (k,h))\n",
    "        a_n_int[n-1] , error = quad(chi,-h,0, args = (k,h))\n",
    "        a_n[n-1] = (f0/((-k_n[n-1])*C_n[n-1]))*a_n_int[n-1]\n",
    "    return a_n, k_n"
   ]
  },
  {
   "cell_type": "code",
   "execution_count": 50,
   "id": "e881743e-36f1-4bbe-8027-c51c91b4f7d5",
   "metadata": {},
   "outputs": [],
   "source": [
    "a_n_vals, k_n_vals = fourier_transform(6,False)"
   ]
  },
  {
   "cell_type": "code",
   "execution_count": 52,
   "id": "36dc300f-f4ea-493d-ab63-f1a2fb129aff",
   "metadata": {},
   "outputs": [
    {
     "name": "stdout",
     "output_type": "stream",
     "text": [
      "[ 5.26956874e-03  5.42330526e-04  1.82817946e-04  1.03509167e-04\n",
      "  9.58718956e-05 -1.11173568e-04]\n",
      "[ 55.09898609 121.67241452 185.35603647 248.12708395 309.46510581\n",
      " 387.18198832]\n"
     ]
    }
   ],
   "source": [
    "print(a_n_vals)\n",
    "print(k_n_vals)"
   ]
  },
  {
   "cell_type": "code",
   "execution_count": 54,
   "id": "d443131d-5bdf-41f0-a654-9703f9b0ef28",
   "metadata": {},
   "outputs": [],
   "source": [
    "def chi(z,k,h):\n",
    "    return np.cos(k*(z+h))/np.cos(k*h)"
   ]
  },
  {
   "cell_type": "code",
   "execution_count": 56,
   "id": "fa112bfd-131f-423e-8578-a8c1e44a0ec3",
   "metadata": {},
   "outputs": [],
   "source": [
    "def chi_0(z,k,h):\n",
    "    return np.cosh(k*(z+h))/np.cosh(k*h)"
   ]
  },
  {
   "cell_type": "code",
   "execution_count": 58,
   "id": "f13224d4-ed18-4063-a59f-1078cb5612cd",
   "metadata": {},
   "outputs": [
    {
     "name": "stdout",
     "output_type": "stream",
     "text": [
      "-13.071988179928903j\n",
      "25.518180941458066\n"
     ]
    }
   ],
   "source": [
    "h=0.05\n",
    "h = 0.05\n",
    "rho = 1000\n",
    "g =9.8\n",
    "gam = 0.072\n",
    "w = 140*(2*np.pi / 60)\n",
    "f0=1\n",
    "def h1(kap):\n",
    "    return kap*np.tanh(kap*h)\n",
    "\n",
    "def h2(kap):\n",
    "    return (w**2)/(g+(gam/rho)*kap**2)\n",
    "\n",
    "def f2(kap):\n",
    "    return h1(kap) - h2(kap)\n",
    "    \n",
    "kappa = fsolve(f2, [0,40])[0]\n",
    "\n",
    "C_0 = (1/(4*kappa*np.cosh(kappa*h)**2))*(2*kappa*h + np.sinh(2*kappa*h))\n",
    "\n",
    "a_0 = (1/(1j)*(kappa**2)*(C_0))*(np.sinh(kappa*h)/np.cosh(kappa*h))\n",
    "print(a_0)\n",
    "print(kappa)"
   ]
  },
  {
   "cell_type": "code",
   "execution_count": 60,
   "id": "afeb2daf-73f3-48ca-9391-58b8a71f973b",
   "metadata": {},
   "outputs": [],
   "source": [
    "h= 0.05"
   ]
  },
  {
   "cell_type": "code",
   "execution_count": 62,
   "id": "7b72ef89-9e27-4fd3-a681-c2c3e2ffa692",
   "metadata": {},
   "outputs": [],
   "source": [
    "def phi(x,z,h):\n",
    "    return a_0*chi_0(z,kappa,h)*np.exp(1j*kappa*x) + a_n_vals[0]*chi(z,k_n_vals[0],h)*np.exp(-k_n_vals[0]*x) \n",
    "    + a_n_vals[1]*chi(z,k_n_vals[1],h)*np.exp(-k_n_vals[1]*x)  + a_n_vals[2]*chi(z,k_n_vals[2],h)*np.exp(-k_n_vals[2]*x)"
   ]
  },
  {
   "cell_type": "code",
   "execution_count": 64,
   "id": "015a1922-2db8-44cf-8ea8-542d7ba033e2",
   "metadata": {},
   "outputs": [
    {
     "name": "stderr",
     "output_type": "stream",
     "text": [
      "C:\\Users\\nicol\\anaconda3\\Lib\\site-packages\\matplotlib\\contour.py:1515: ComplexWarning: Casting complex values to real discards the imaginary part\n",
      "  self.zmax = z.max().astype(float)\n",
      "C:\\Users\\nicol\\anaconda3\\Lib\\site-packages\\matplotlib\\contour.py:1516: ComplexWarning: Casting complex values to real discards the imaginary part\n",
      "  self.zmin = z.min().astype(float)\n",
      "C:\\Users\\nicol\\anaconda3\\Lib\\site-packages\\numpy\\ma\\core.py:2820: ComplexWarning: Casting complex values to real discards the imaginary part\n",
      "  _data = np.array(data, dtype=dtype, copy=copy,\n"
     ]
    },
    {
     "data": {
      "image/png": "[encoded data removed]",
      "text/plain": [
       "<Figure size 640x480 with 1 Axes>"
      ]
     },
     "metadata": {},
     "output_type": "display_data"
    }
   ],
   "source": [
    "H=0.05\n",
    "x_vals = np.linspace(0,1,1000)\n",
    "z_vals = np.linspace(0,0.1,1000)\n",
    "X, Z = np.meshgrid(x_vals, z_vals)\n",
    "PHI = phi(X, Z, H)\n",
    "plt.figure()\n",
    "plt.contourf(X, Z, PHI, levels=50, cmap='viridis')\n",
    "plt.savefig('velocity potential.jpg')"
   ]
  },
  {
   "cell_type": "code",
   "execution_count": 68,
   "id": "6e8698c0-905c-4ee9-9e85-065c2b619743",
   "metadata": {},
   "outputs": [
    {
     "data": {
      "text/plain": [
       "Text(0.5, 1.0, 'Function of a_n versus mode number b')"
      ]
     },
     "execution_count": 68,
     "metadata": {},
     "output_type": "execute_result"
    },
    {
     "data": {
      "image/png": "[encoded data removed]",
      "text/plain": [
       "<Figure size 640x480 with 1 Axes>"
      ]
     },
     "metadata": {},
     "output_type": "display_data"
    }
   ],
   "source": [
    "full_a_n_vals = [-13.071988179928903j ,0.00526957, 0.00054233, 0.00018282, 0.00010351]\n",
    "n_vals = [1,2,3,4,5,6]\n",
    "\n",
    "plt.scatter(n_vals, a_n_vals)\n",
    "plt.title('Function of a_n versus mode number b')"
   ]
  },
  {
   "cell_type": "code",
   "execution_count": null,
   "id": "b4c46599-0091-41bf-a30f-7c3779c8f919",
   "metadata": {},
   "outputs": [],
   "source": []
  },
  {
   "cell_type": "code",
   "execution_count": null,
   "id": "9cbc1fb4-a420-4eac-bb95-1065281f203c",
   "metadata": {},
   "outputs": [],
   "source": []
  }
 ],
 "metadata": {
  "kernelspec": {
   "display_name": "Python [conda env:base] *",
   "language": "python",
   "name": "conda-base-py"
  },
  "language_info": {
   "codemirror_mode": {
    "name": "ipython",
    "version": 3
   },
   "file_extension": ".py",
   "mimetype": "text/x-python",
   "name": "python",
   "nbconvert_exporter": "python",
   "pygments_lexer": "ipython3",
   "version": "3.12.7"
  }
 },
 "nbformat": 4,
 "nbformat_minor": 5
}
